{
 "cells": [
  {
   "cell_type": "code",
   "execution_count": 6,
   "metadata": {},
   "outputs": [],
   "source": [
    "#pip install google-cloud-automl"
   ]
  },
  {
   "cell_type": "markdown",
   "metadata": {},
   "source": [
    "#### The below code is for productionalising and making this code reproducible.\n",
    "#### It restarts the kernel once the google-cloud-automl has been installed. Commenting for now"
   ]
  },
  {
   "cell_type": "code",
   "execution_count": 4,
   "metadata": {},
   "outputs": [],
   "source": [
    "# from IPython.core.display import HTML\n",
    "# HTML(\"<script>Jupyter.notebook.kernel.restart()</script>\")"
   ]
  },
  {
   "cell_type": "code",
   "execution_count": 8,
   "metadata": {},
   "outputs": [],
   "source": [
    "PROJECT_ID = \"ut-goog\"\n",
    "COMPUTE_REGION = \"us-central1\""
   ]
  },
  {
   "cell_type": "markdown",
   "metadata": {},
   "source": [
    "#### Authenticate your GCP account:\n",
    "If you are using AI Platform Notebooks, your environment is already authenticated. Skip this step.\n",
    "I'm commenting the code in case this needs to be run from elsewhere.\n",
    "\n",
    "Otherwise, follow these steps:\n",
    "1. In the GCP Console, go to the Create service account key page.\n",
    "2. From the Service account drop-down list, select New service account.\n",
    "3. In the Service account name field, enter a name.\n",
    "4. From the Role drop-down list, select AutoML > AutoML Admin and Storage > Storage Object Admin.\n",
    "5. Click Create. A JSON file that contains your key downloads to your local environment.\n",
    "\n",
    "Upload the downloaded JSON file that contains your key."
   ]
  },
  {
   "cell_type": "code",
   "execution_count": null,
   "metadata": {},
   "outputs": [],
   "source": [
    "# import sys\n",
    "\n",
    "# if 'google.colab' in sys.modules:    \n",
    "#   from google.colab import files\n",
    "#   keyfile_upload = files.upload()\n",
    "#   keyfile = list(keyfile_upload.keys())[0]\n",
    "#   %env GOOGLE_APPLICATION_CREDENTIALS $keyfile\n",
    "#   ! gcloud auth activate-service-account --key-file $keyfile\n",
    "\n",
    "# %env GOOGLE_APPLICATION_CREDENTIALS /path/to/service/account\n",
    "# ! gcloud auth activate-service-account --key-file '/path/to/service/account'"
   ]
  },
  {
   "cell_type": "markdown",
   "metadata": {},
   "source": [
    "#### Create a Cloud Storage bucket\n",
    "\n",
    "When you submit a training job using the Cloud SDK, you upload a Python package containing your training code to a Cloud Storage bucket. \n",
    "AI Platform runs the code from this package. \n",
    "AI Platform also saves the trained model that results from your job in the same bucket. \n",
    "You can then create an AI Platform model version based on this output in order to serve online predictions."
   ]
  },
  {
   "cell_type": "code",
   "execution_count": 11,
   "metadata": {},
   "outputs": [],
   "source": [
    "BUCKET_NAME = \"cpfb\""
   ]
  },
  {
   "cell_type": "markdown",
   "metadata": {},
   "source": [
    "Only if your bucket doesn't already exist: Run the following cell to create your Cloud Storage bucket."
   ]
  },
  {
   "cell_type": "code",
   "execution_count": 12,
   "metadata": {},
   "outputs": [
    {
     "name": "stdout",
     "output_type": "stream",
     "text": [
      "Creating gs://cpfb/...\n"
     ]
    }
   ],
   "source": [
    "! gsutil mb -p $PROJECT_ID -l $COMPUTE_REGION gs://$BUCKET_NAME"
   ]
  },
  {
   "cell_type": "code",
   "execution_count": 13,
   "metadata": {},
   "outputs": [],
   "source": [
    "# Validating access to cloud storage bucket by checking its contents\n",
    "! gsutil ls -al gs://$BUCKET_NAME"
   ]
  },
  {
   "cell_type": "markdown",
   "metadata": {},
   "source": [
    "#### Import libraries and define constants\n",
    "Import relevant packages"
   ]
  },
  {
   "cell_type": "code",
   "execution_count": 14,
   "metadata": {},
   "outputs": [],
   "source": [
    "from __future__ import absolute_import\n",
    "from __future__ import division\n",
    "from __future__ import print_function"
   ]
  },
  {
   "cell_type": "code",
   "execution_count": 15,
   "metadata": {},
   "outputs": [],
   "source": [
    "# AutoML library.\n",
    "from google.cloud import automl_v1beta1 as automl\n",
    "import google.cloud.automl_v1beta1.proto.data_types_pb2 as data_types"
   ]
  },
  {
   "cell_type": "code",
   "execution_count": 16,
   "metadata": {},
   "outputs": [],
   "source": [
    "import matplotlib.pyplot as plt\n",
    "from ipywidgets import interact\n",
    "import ipywidgets as widgets"
   ]
  },
  {
   "cell_type": "code",
   "execution_count": 35,
   "metadata": {},
   "outputs": [],
   "source": [
    "# Iniatialising constants\n",
    "#@title Constants { vertical-output: true }\n",
    "\n",
    "# A name for the AutoML tables Dataset to create.\n",
    "DATASET_DISPLAY_NAME = 'rolled_up_data' \n",
    "# The BigQuery dataset to import data from (doesn't need to exist).\n",
    "BQ_DATASET_NAME = \"nl_api\"\n",
    "# The BigQuery table to import data from (doesn't need to exist).\n",
    "BQ_TABLE_NAME = \"Karan_rolled_up_data\" \n",
    "# A name for the AutoML tables model to create.\n",
    "MODEL_DISPLAY_NAME = 'rolled_up_data_api_model1'\n",
    "\n",
    "assert all([\n",
    "    PROJECT_ID,\n",
    "    COMPUTE_REGION,\n",
    "    DATASET_DISPLAY_NAME,\n",
    "    BQ_DATASET_NAME,\n",
    "    BQ_TABLE_NAME,\n",
    "    MODEL_DISPLAY_NAME,\n",
    "])"
   ]
  },
  {
   "cell_type": "code",
   "execution_count": 17,
   "metadata": {},
   "outputs": [],
   "source": [
    "# Initialize the clients.\n",
    "automl_client = automl.AutoMlClient()\n",
    "tables_client = automl.TablesClient(project=PROJECT_ID, region=COMPUTE_REGION)"
   ]
  },
  {
   "cell_type": "markdown",
   "metadata": {},
   "source": [
    "#### Test the set up\n",
    "To test whether your project set up and authentication steps were successful, run the following cell to list your datasets in this project.\n",
    "If no dataset has previously imported into AutoML Tables, you shall expect an empty return."
   ]
  },
  {
   "cell_type": "code",
   "execution_count": 19,
   "metadata": {},
   "outputs": [
    {
     "data": {
      "text/plain": [
       "{'model1': 'projects/320881631258/locations/us-central1/datasets/TBL1404038965274607616',\n",
       " 'untitled_1583352987864': 'projects/320881631258/locations/us-central1/datasets/TBL3542967313298882560',\n",
       " 'wrapped_up_labels_model': 'projects/320881631258/locations/us-central1/datasets/TBL6065449297556537344'}"
      ]
     },
     "execution_count": 19,
     "metadata": {},
     "output_type": "execute_result"
    }
   ],
   "source": [
    "# List the datasets.\n",
    "list_datasets = tables_client.list_datasets()\n",
    "datasets = { dataset.display_name: dataset.name for dataset in list_datasets }\n",
    "datasets"
   ]
  },
  {
   "cell_type": "code",
   "execution_count": 20,
   "metadata": {},
   "outputs": [
    {
     "data": {
      "text/plain": [
       "{'model1_20200303015822': 'projects/320881631258/locations/us-central1/models/TBL5681409677183680512',\n",
       " 'model1_20200303085010': 'projects/320881631258/locations/us-central1/models/TBL8368651279840313344',\n",
       " 'model1_20200304011142': 'projects/320881631258/locations/us-central1/models/TBL1982547008228950016',\n",
       " 'model1_20200304011232': 'projects/320881631258/locations/us-central1/models/TBL1441411365502713856',\n",
       " 'model1_20200304011324': 'projects/320881631258/locations/us-central1/models/TBL3039767020754173952',\n",
       " 'wrapped_up_labels_20200331111127': 'projects/320881631258/locations/us-central1/models/TBL3708322867000115200',\n",
       " 'wrapped_up_labels_20200331111224': 'projects/320881631258/locations/us-central1/models/TBL1593882841949667328'}"
      ]
     },
     "execution_count": 20,
     "metadata": {},
     "output_type": "execute_result"
    }
   ],
   "source": [
    "# List the models.\n",
    "list_models = tables_client.list_models()\n",
    "models = { model.display_name: model.name for model in list_models }\n",
    "models"
   ]
  },
  {
   "cell_type": "markdown",
   "metadata": {},
   "source": [
    "#### Import training data\n",
    "##### Create dataset\n",
    "Now we are ready to create a dataset instance (on GCP) using the client method create_dataset(). This method has one required parameter, the human readable display name DATASET_DISPLAY_NAME.\n",
    "Select a dataset display name and pass your table source information to create a new dataset."
   ]
  },
  {
   "cell_type": "code",
   "execution_count": 25,
   "metadata": {},
   "outputs": [
    {
     "data": {
      "text/plain": [
       "name: \"projects/320881631258/locations/us-central1/datasets/TBL1431843415317807104\"\n",
       "display_name: \"rolled_up_data\"\n",
       "create_time {\n",
       "  seconds: 1586361447\n",
       "  nanos: 754664000\n",
       "}\n",
       "etag: \"AB3BwFqXJs46B-rFUb6uJPBpgoWPbhFRh9KngHFY1vo4vI1IGYgUgm1ZhIAEZg44hPWY\"\n",
       "tables_dataset_metadata {\n",
       "  stats_update_time {\n",
       "  }\n",
       "}"
      ]
     },
     "execution_count": 25,
     "metadata": {},
     "output_type": "execute_result"
    }
   ],
   "source": [
    "# Create dataset.\n",
    "dataset = tables_client.create_dataset(\n",
    "          dataset_display_name=DATASET_DISPLAY_NAME)\n",
    "dataset_name = dataset.name\n",
    "dataset"
   ]
  },
  {
   "cell_type": "markdown",
   "metadata": {},
   "source": [
    "##### Import data"
   ]
  },
  {
   "cell_type": "code",
   "execution_count": 26,
   "metadata": {},
   "outputs": [
    {
     "name": "stdout",
     "output_type": "stream",
     "text": [
      "Dataset import operation: name: \"projects/320881631258/locations/us-central1/operations/TBL8688788383918456832\"\n",
      "metadata {\n",
      "  type_url: \"type.googleapis.com/google.cloud.automl.v1beta1.OperationMetadata\"\n",
      "  value: \"\\032\\014\\010\\375\\350\\267\\364\\005\\020\\350\\335\\270\\277\\002\\\"\\014\\010\\375\\350\\267\\364\\005\\020\\350\\335\\270\\277\\002z\\000\"\n",
      "}\n",
      "\n",
      "Dataset import response: \n"
     ]
    },
    {
     "data": {
      "text/plain": [
       "name: \"projects/320881631258/locations/us-central1/datasets/TBL1431843415317807104\"\n",
       "display_name: \"rolled_up_data\"\n",
       "create_time {\n",
       "  seconds: 1586361447\n",
       "  nanos: 754664000\n",
       "}\n",
       "etag: \"AB3BwFosfTummg7I2vXrLUpwnKRU6gbXkveA46mY8SHZJqYCpKZl7nfzCAt52E1lU_9Q\"\n",
       "example_count: 496718\n",
       "tables_dataset_metadata {\n",
       "  primary_table_spec_id: \"1401244006716801024\"\n",
       "  stats_update_time {\n",
       "    seconds: 1586361654\n",
       "    nanos: 933000000\n",
       "  }\n",
       "}"
      ]
     },
     "execution_count": 26,
     "metadata": {},
     "output_type": "execute_result"
    }
   ],
   "source": [
    "dataset_bq_input_uri = 'bq://{0}.{1}.{2}'.format(\n",
    "    PROJECT_ID, BQ_DATASET_NAME, BQ_TABLE_NAME)\n",
    "\n",
    "import_data_response = tables_client.import_data(\n",
    "    dataset=dataset, bigquery_input_uri=dataset_bq_input_uri)\n",
    "\n",
    "print('Dataset import operation: {}'.format(import_data_response.operation))\n",
    "\n",
    "# Synchronous check of operation status. Wait until import is done.\n",
    "print('Dataset import response: {}'.format(import_data_response.result()))\n",
    "\n",
    "# Verify the status by checking the example_count field.\n",
    "dataset = tables_client.get_dataset(dataset_name=dataset_name)\n",
    "dataset"
   ]
  },
  {
   "cell_type": "markdown",
   "metadata": {},
   "source": [
    "#### Review table specs to verify valdity of data import"
   ]
  },
  {
   "cell_type": "code",
   "execution_count": 27,
   "metadata": {},
   "outputs": [
    {
     "name": "stdout",
     "output_type": "stream",
     "text": [
      "Feature list:\n",
      "\n",
      "consumer_complaint_narrative : STRING\n",
      "timely_response : CATEGORY\n",
      "entity_sentiment_scores : STRING\n",
      "entity_types : STRING\n",
      "consumer_consent_provided : CATEGORY\n",
      "product : STRING\n",
      "tags : CATEGORY\n",
      "company_public_response : CATEGORY\n",
      "subproduct : STRING\n",
      "consumer_disputed : CATEGORY\n",
      "entity_sentiment_magnitudes : STRING\n",
      "entities : STRING\n",
      "date_sent_to_company : TIMESTAMP\n",
      "company_response_to_consumer : CATEGORY\n",
      "issue : STRING\n",
      "state : CATEGORY\n",
      "company_name : STRING\n",
      "subissue : STRING\n",
      "date_received : TIMESTAMP\n",
      "submitted_via : CATEGORY\n",
      "complaint_id : FLOAT64\n",
      "sentiment_score : FLOAT64\n",
      "sentiment_magnitude : FLOAT64\n",
      "zip_code : CATEGORY\n"
     ]
    }
   ],
   "source": [
    "# List table specs.\n",
    "list_table_specs_response = tables_client.list_table_specs(dataset=dataset)\n",
    "table_specs = [s for s in list_table_specs_response]\n",
    "\n",
    "# List column specs.\n",
    "list_column_specs_response = tables_client.list_column_specs(dataset=dataset)\n",
    "column_specs = {s.display_name: s for s in list_column_specs_response}\n",
    "\n",
    "# Print Features and data_type.\n",
    "features = [(key, data_types.TypeCode.Name(value.data_type.type_code)) \n",
    "            for key, value in column_specs.items()]\n",
    "print('Feature list:\\n')\n",
    "for feature in features:\n",
    "    print(feature[0],':', feature[1])"
   ]
  },
  {
   "cell_type": "code",
   "execution_count": 28,
   "metadata": {},
   "outputs": [
    {
     "data": {
      "image/png": "[encoded data removed]",
      "text/plain": [
       "<Figure size 432x288 with 1 Axes>"
      ]
     },
     "metadata": {},
     "output_type": "display_data"
    }
   ],
   "source": [
    "# Table schema pie chart.\n",
    "type_counts = {}\n",
    "for column_spec in column_specs.values():\n",
    "  type_name = data_types.TypeCode.Name(column_spec.data_type.type_code)\n",
    "  type_counts[type_name] = type_counts.get(type_name, 0) + 1\n",
    "    \n",
    "plt.pie(x=type_counts.values(), labels=type_counts.keys(), autopct='%1.1f%%')\n",
    "plt.axis('equal')\n",
    "plt.show()"
   ]
  },
  {
   "cell_type": "code",
   "execution_count": 31,
   "metadata": {},
   "outputs": [
    {
     "data": {
      "text/plain": [
       "name: \"projects/320881631258/locations/us-central1/datasets/TBL1431843415317807104/tableSpecs/1401244006716801024/columnSpecs/8771426578350473216\"\n",
       "data_type {\n",
       "  type_code: CATEGORY\n",
       "}\n",
       "display_name: \"company_response_to_consumer\"\n",
       "data_stats {\n",
       "  distinct_value_count: 5\n",
       "  null_value_count: 1\n",
       "  category_stats {\n",
       "    top_category_stats {\n",
       "      value: \"Closed with explanation\"\n",
       "      count: 401455\n",
       "    }\n",
       "    top_category_stats {\n",
       "      value: \"Closed with non-monetary relief\"\n",
       "      count: 61784\n",
       "    }\n",
       "    top_category_stats {\n",
       "      value: \"Closed with monetary relief\"\n",
       "      count: 26595\n",
       "    }\n",
       "    top_category_stats {\n",
       "      value: \"Closed\"\n",
       "      count: 3741\n",
       "    }\n",
       "    top_category_stats {\n",
       "      value: \"Untimely response\"\n",
       "      count: 3142\n",
       "    }\n",
       "  }\n",
       "  valid_value_count: 496718\n",
       "}\n",
       "etag: \"AB3BwFpaa3u2J61cWwJ9qTYy4KqxhjO0Pda7DEwZUUTd8jmQeOy33Ehv3BgqmTQ_tC1w\""
      ]
     },
     "execution_count": 31,
     "metadata": {},
     "output_type": "execute_result"
    }
   ],
   "source": [
    "# Target column cannot be nullable. This code sets it as non nullable\n",
    "column_spec_display_name = 'company_response_to_consumer'\n",
    "\n",
    "update_column_response = tables_client.update_column_spec(\n",
    "    dataset=dataset,\n",
    "    column_spec_display_name=column_spec_display_name,\n",
    "    nullable=False,\n",
    ")\n",
    "update_column_response"
   ]
  },
  {
   "cell_type": "code",
   "execution_count": 32,
   "metadata": {},
   "outputs": [
    {
     "data": {
      "text/plain": [
       "name: \"projects/320881631258/locations/us-central1/datasets/TBL1431843415317807104\"\n",
       "display_name: \"rolled_up_data\"\n",
       "create_time {\n",
       "  seconds: 1586361447\n",
       "  nanos: 754664000\n",
       "}\n",
       "etag: \"AB3BwFr8VHyRgajRDc-sHDW0t70knAcH2w4AuFgd10v8t-BaNyKCu00ACncjgs5ff5kX\"\n",
       "example_count: 496718\n",
       "tables_dataset_metadata {\n",
       "  primary_table_spec_id: \"1401244006716801024\"\n",
       "  target_column_spec_id: \"8771426578350473216\"\n",
       "  stats_update_time {\n",
       "    seconds: 1586361654\n",
       "    nanos: 933000000\n",
       "  }\n",
       "}"
      ]
     },
     "execution_count": 32,
     "metadata": {},
     "output_type": "execute_result"
    }
   ],
   "source": [
    "# Assign a target variable\n",
    "column_spec_display_name = 'company_response_to_consumer' \n",
    "update_dataset_response = tables_client.set_target_column(\n",
    "    dataset=dataset,\n",
    "    column_spec_display_name=column_spec_display_name,\n",
    ")\n",
    "update_dataset_response"
   ]
  },
  {
   "cell_type": "markdown",
   "metadata": {},
   "source": [
    "#### Create a Model"
   ]
  },
  {
   "cell_type": "code",
   "execution_count": 36,
   "metadata": {},
   "outputs": [
    {
     "name": "stdout",
     "output_type": "stream",
     "text": [
      "Create model operation: name: \"projects/320881631258/locations/us-central1/operations/TBL6548452661010628608\"\n",
      "metadata {\n",
      "  type_url: \"type.googleapis.com/google.cloud.automl.v1beta1.OperationMetadata\"\n",
      "  value: \"\\032\\014\\010\\327\\364\\267\\364\\005\\020\\260\\312\\370\\305\\002\\\"\\014\\010\\327\\364\\267\\364\\005\\020\\260\\312\\370\\305\\002R\\000\"\n",
      "}\n",
      "\n"
     ]
    }
   ],
   "source": [
    "# The number of hours to train the model.\n",
    "model_train_hours = 1 #@param {type:'integer'}\n",
    "\n",
    "create_model_response = tables_client.create_model(\n",
    "    model_display_name=MODEL_DISPLAY_NAME,\n",
    "    dataset=dataset,\n",
    "    train_budget_milli_node_hours=model_train_hours*1000,\n",
    "    exclude_column_spec_names=['company_response_to_consumer','timely_response','entity_sentiment_scores',\n",
    "                               'entity_types','consumer_consent_provided','company_public_response',\n",
    "                               'consumer_disputed','entity_sentiment_magnitudes','entities','date_sent_to_company',\n",
    "                               'company_response_to_consumer','date_received','submitted_via','complaint_id',\n",
    "                               'sentiment_score', 'sentiment_magnitude'],\n",
    ")\n",
    "\n",
    "operation_id = create_model_response.operation.name\n",
    "\n",
    "print('Create model operation: {}'.format(create_model_response.operation))"
   ]
  },
  {
   "cell_type": "code",
   "execution_count": null,
   "metadata": {},
   "outputs": [],
   "source": [
    "# Wait until model training is done.\n",
    "model = create_model_response.result()\n",
    "model_name = model.name\n",
    "model"
   ]
  }
 ],
 "metadata": {
  "kernelspec": {
   "display_name": "Python 3",
   "language": "python",
   "name": "python3"
  },
  "language_info": {
   "codemirror_mode": {
    "name": "ipython",
    "version": 3
   },
   "file_extension": ".py",
   "mimetype": "text/x-python",
   "name": "python",
   "nbconvert_exporter": "python",
   "pygments_lexer": "ipython3",
   "version": "3.5.3"
  }
 },
 "nbformat": 4,
 "nbformat_minor": 4
}
